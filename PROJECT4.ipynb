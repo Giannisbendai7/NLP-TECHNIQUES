{
 "cells": [
  {
   "cell_type": "code",
   "execution_count": 7,
   "id": "64496b17-b2ea-4a34-a33b-d689afceb4ab",
   "metadata": {},
   "outputs": [],
   "source": [
    "import spacy\n",
    "import torch\n",
    "import pandas as pd\n"
   ]
  },
  {
   "cell_type": "code",
   "execution_count": 9,
   "id": "9e0104e4-c08f-4a40-8b69-dcb6abb068b9",
   "metadata": {},
   "outputs": [
    {
     "name": "stdout",
     "output_type": "stream",
     "text": [
      "Entity: Barack Obama, Label: PERSON\n",
      "Entity: Hawaii, Label: GPE\n"
     ]
    }
   ],
   "source": [
    "import spacy\n",
    "\n",
    "# Φόρτωμα του προ-εκπαιδευμένου μοντέλου για NER\n",
    "nlp = spacy.load(\"en_core_web_sm\")\n",
    "\n",
    "# Παράδειγμα κειμένου\n",
    "text = \"Barack Obama was born in Hawaii.\"\n",
    "\n",
    "# Δημιουργία NLP αντικειμένου\n",
    "doc = nlp(text)\n",
    "\n",
    "# Εμφάνιση των αναγνωρισμένων οντοτήτων\n",
    "for entity in doc.ents:\n",
    "    print(f\"Entity: {entity.text}, Label: {entity.label_}\")"
   ]
  },
  {
   "cell_type": "code",
   "execution_count": 11,
   "id": "77b93351-5c85-44d0-bef1-13731980bb3b",
   "metadata": {},
   "outputs": [],
   "source": [
    "import pandas as pd\n",
    "\n",
    "data = pd.read_csv(r\"C:\\Users\\user\\Downloads\\submission.csv\")"
   ]
  },
  {
   "cell_type": "code",
   "execution_count": 13,
   "id": "de801cae-3c12-4c3c-96a8-0ade12d756d3",
   "metadata": {},
   "outputs": [
    {
     "name": "stdout",
     "output_type": "stream",
     "text": [
      "       textID                                      selected_text\n",
      "0  f87dea47db  Last session of the day  http://twitpic.com/67ezh\n",
      "1  96d74cb729                                           exciting\n",
      "2  eee518ae67                                          Recession\n",
      "3  01082688c6                                        happy bday!\n",
      "4  33987a8ee5                                        I like it!!\n"
     ]
    }
   ],
   "source": [
    "print(data.head())"
   ]
  },
  {
   "cell_type": "code",
   "execution_count": 19,
   "id": "54929bd9-4c21-4c07-80c6-197b27486e95",
   "metadata": {},
   "outputs": [
    {
     "name": "stdout",
     "output_type": "stream",
     "text": [
      "       textID                                     selected_text\n",
      "0  f87dea47db  Last session of the day http://twitpic.com/67ezh\n",
      "1  96d74cb729                                          exciting\n",
      "2  eee518ae67                                         Recession\n",
      "3  01082688c6                                       happy bday!\n",
      "4  33987a8ee5                                       I like it!!\n"
     ]
    }
   ],
   "source": [
    "import pandas as pd\n",
    "\n",
    "\n",
    "data = {'textID': ['f87dea47db', '96d74cb729', 'eee518ae67', '01082688c6', '33987a8ee5'],\n",
    "        'selected_text': ['Last session of the day http://twitpic.com/67ezh', 'exciting', 'Recession', 'happy bday!', 'I like it!!']}\n",
    "df = pd.DataFrame(data)\n",
    "\n",
    "\n",
    "print(df.head())"
   ]
  },
  {
   "cell_type": "code",
   "execution_count": 21,
   "id": "c4df8e10-197a-467f-9db9-a6b8250844d0",
   "metadata": {},
   "outputs": [
    {
     "name": "stdout",
     "output_type": "stream",
     "text": [
      "       textID                                     selected_text entities\n",
      "0  f87dea47db  Last session of the day http://twitpic.com/67ezh       []\n",
      "1  96d74cb729                                          exciting       []\n",
      "2  eee518ae67                                         Recession       []\n",
      "3  01082688c6                                       happy bday!       []\n",
      "4  33987a8ee5                                       I like it!!       []\n"
     ]
    }
   ],
   "source": [
    "import spacy\n",
    "\n",
    "\n",
    "nlp = spacy.load(\"en_core_web_sm\")\n",
    "\n",
    "\n",
    "df['entities'] = df['selected_text'].apply(lambda x: [(ent.text, ent.label_) for ent in nlp(x).ents])\n",
    "\n",
    "\n",
    "print(df.head())"
   ]
  },
  {
   "cell_type": "code",
   "execution_count": 26,
   "id": "4559a90b-30ba-4619-aebb-a68912cbeef6",
   "metadata": {},
   "outputs": [
    {
     "name": "stdout",
     "output_type": "stream",
     "text": [
      "       textID                                     selected_text  \\\n",
      "0  f87dea47db  Last session of the day http://twitpic.com/67ezh   \n",
      "1  96d74cb729                                          exciting   \n",
      "2  eee518ae67                                         Recession   \n",
      "3  01082688c6                                       happy bday!   \n",
      "4  33987a8ee5                                       I like it!!   \n",
      "\n",
      "                                     tokens  \n",
      "0  [session, day, http://twitpic.com/67ezh]  \n",
      "1                                [exciting]  \n",
      "2                               [recession]  \n",
      "3                          [happy, bday, !]  \n",
      "4                              [like, !, !]  \n"
     ]
    }
   ],
   "source": [
    "print(df.head())"
   ]
  },
  {
   "cell_type": "code",
   "execution_count": 30,
   "id": "a4a67106-e754-4598-b965-0b6242b44160",
   "metadata": {},
   "outputs": [
    {
     "name": "stdout",
     "output_type": "stream",
     "text": [
      "Collecting spicyNote: you may need to restart the kernel to use updated packages.\n",
      "\n",
      "  Downloading spicy-0.16.0-py2.py3-none-any.whl.metadata (310 bytes)\n",
      "Requirement already satisfied: scipy in c:\\users\\user\\anaconda3\\lib\\site-packages (from spicy) (1.13.1)\n",
      "Requirement already satisfied: numpy<2.3,>=1.22.4 in c:\\users\\user\\anaconda3\\lib\\site-packages (from scipy->spicy) (1.26.4)\n",
      "Downloading spicy-0.16.0-py2.py3-none-any.whl (1.7 kB)\n",
      "Installing collected packages: spicy\n",
      "Successfully installed spicy-0.16.0\n"
     ]
    }
   ],
   "source": [
    "pip install spicy\n"
   ]
  },
  {
   "cell_type": "code",
   "execution_count": 34,
   "id": "a75b4340-3e1a-4c50-ae68-5ed80f5f772b",
   "metadata": {},
   "outputs": [
    {
     "name": "stdout",
     "output_type": "stream",
     "text": [
      "['Hello', ',', 'this', 'is', 'a', 'test', 'sentence', '.']\n"
     ]
    }
   ],
   "source": [
    "import spacy\n",
    "\n",
    "nlp = spacy.load(\"en_core_web_sm\")\n",
    "\n",
    "doc = nlp(\"Hello, this is a test sentence.\")\n",
    "\n",
    "print([token.text for token in doc])"
   ]
  },
  {
   "cell_type": "code",
   "execution_count": 36,
   "id": "35568879-0172-4672-b982-287377d3ddc6",
   "metadata": {},
   "outputs": [
    {
     "name": "stdout",
     "output_type": "stream",
     "text": [
      "       textID                                    tokens\n",
      "0  f87dea47db  [session, day, http://twitpic.com/67ezh]\n",
      "1  96d74cb729                                [exciting]\n",
      "2  eee518ae67                               [recession]\n",
      "3  01082688c6                          [happy, bday, !]\n",
      "4  33987a8ee5                              [like, !, !]\n"
     ]
    }
   ],
   "source": [
    "import spacy\n",
    "import pandas as pd\n",
    "\n",
    "nlp = spacy.load(\"en_core_web_sm\")\n",
    "\n",
    "data = {'textID': ['f87dea47db', '96d74cb729', 'eee518ae67', '01082688c6', '33987a8ee5'],\n",
    "        'selected_text': ['Last session of the day http://twitpic.com/67ezh', 'exciting', 'Recession', 'happy bday!', 'I like it!!']}\n",
    "df = pd.DataFrame(data)\n",
    "\n",
    "def process_text(text):\n",
    "    \n",
    "    doc = nlp(text)\n",
    "     \n",
    "    tokens = [token.lemma_ for token in doc if not token.is_stop]\n",
    "    \n",
    "    return tokens\n",
    "\n",
    "df['tokens'] = df['selected_text'].apply(process_text)\n",
    "\n",
    "print(df[['textID', 'tokens']])  # Εκτύπωση των tokens"
   ]
  },
  {
   "cell_type": "code",
   "execution_count": 38,
   "id": "b7aaded4-9fa5-4d9e-a57f-87bf2f8738e1",
   "metadata": {},
   "outputs": [
    {
     "name": "stdout",
     "output_type": "stream",
     "text": [
      "       textID                                     selected_text  \\\n",
      "0  f87dea47db  Last session of the day http://twitpic.com/67ezh   \n",
      "1  96d74cb729                                          exciting   \n",
      "2  eee518ae67                                         Recession   \n",
      "3  01082688c6                                       happy bday!   \n",
      "4  33987a8ee5                                       I like it!!   \n",
      "\n",
      "                                     tokens entities  \n",
      "0  [session, day, http://twitpic.com/67ezh]       []  \n",
      "1                                [exciting]       []  \n",
      "2                               [recession]       []  \n",
      "3                          [happy, bday, !]       []  \n",
      "4                              [like, !, !]       []  \n"
     ]
    }
   ],
   "source": [
    "import spacy\n",
    "\n",
    "nlp = spacy.load(\"en_core_web_sm\")\n",
    "\n",
    "df['entities'] = df['selected_text'].apply(lambda x: [(ent.text, ent.label_) for ent in nlp(x).ents])\n",
    "\n",
    "print(df.head())"
   ]
  },
  {
   "cell_type": "code",
   "execution_count": 42,
   "id": "af59e12b-962b-4607-8659-d3750e817d95",
   "metadata": {},
   "outputs": [
    {
     "name": "stdout",
     "output_type": "stream",
     "text": [
      "       textID                                     selected_text  \\\n",
      "0  f87dea47db  Last session of the day http://twitpic.com/67ezh   \n",
      "1  96d74cb729                                          exciting   \n",
      "2  eee518ae67                                         Recession   \n",
      "3  01082688c6                                       happy bday!   \n",
      "4  33987a8ee5                                       I like it!!   \n",
      "\n",
      "                                     tokens entities  \n",
      "0  [session, day, http://twitpic.com/67ezh]       []  \n",
      "1                                [exciting]       []  \n",
      "2                               [recession]       []  \n",
      "3                          [happy, bday, !]       []  \n",
      "4                              [like, !, !]       []  \n"
     ]
    }
   ],
   "source": [
    "print(df.head())"
   ]
  },
  {
   "cell_type": "code",
   "execution_count": 44,
   "id": "c5e0f84b-0ec1-45d1-a8a2-bc2955c6c481",
   "metadata": {},
   "outputs": [],
   "source": [
    "df['sentiment_label'] = ['positive', 'negative', 'neutral', 'positive', 'positive']"
   ]
  },
  {
   "cell_type": "code",
   "execution_count": 52,
   "id": "db19b169-e230-4d04-a436-15448e4ace9c",
   "metadata": {},
   "outputs": [
    {
     "name": "stdout",
     "output_type": "stream",
     "text": [
      "Prediction Results: ['negative' 'negative']\n",
      "True Labels: ['positive' 'positive']\n",
      "              precision    recall  f1-score   support\n",
      "\n",
      "    negative       0.00      0.00      0.00       0.0\n",
      "    positive       0.00      0.00      0.00       2.0\n",
      "\n",
      "    accuracy                           0.00       2.0\n",
      "   macro avg       0.00      0.00      0.00       2.0\n",
      "weighted avg       0.00      0.00      0.00       2.0\n",
      "\n"
     ]
    },
    {
     "name": "stderr",
     "output_type": "stream",
     "text": [
      "C:\\Users\\user\\anaconda3\\Lib\\site-packages\\sklearn\\metrics\\_classification.py:1531: UndefinedMetricWarning: Precision is ill-defined and being set to 0.0 in labels with no predicted samples. Use `zero_division` parameter to control this behavior.\n",
      "  _warn_prf(average, modifier, f\"{metric.capitalize()} is\", len(result))\n",
      "C:\\Users\\user\\anaconda3\\Lib\\site-packages\\sklearn\\metrics\\_classification.py:1531: UndefinedMetricWarning: Recall is ill-defined and being set to 0.0 in labels with no true samples. Use `zero_division` parameter to control this behavior.\n",
      "  _warn_prf(average, modifier, f\"{metric.capitalize()} is\", len(result))\n",
      "C:\\Users\\user\\anaconda3\\Lib\\site-packages\\sklearn\\metrics\\_classification.py:1531: UndefinedMetricWarning: Precision is ill-defined and being set to 0.0 in labels with no predicted samples. Use `zero_division` parameter to control this behavior.\n",
      "  _warn_prf(average, modifier, f\"{metric.capitalize()} is\", len(result))\n",
      "C:\\Users\\user\\anaconda3\\Lib\\site-packages\\sklearn\\metrics\\_classification.py:1531: UndefinedMetricWarning: Recall is ill-defined and being set to 0.0 in labels with no true samples. Use `zero_division` parameter to control this behavior.\n",
      "  _warn_prf(average, modifier, f\"{metric.capitalize()} is\", len(result))\n",
      "C:\\Users\\user\\anaconda3\\Lib\\site-packages\\sklearn\\metrics\\_classification.py:1531: UndefinedMetricWarning: Precision is ill-defined and being set to 0.0 in labels with no predicted samples. Use `zero_division` parameter to control this behavior.\n",
      "  _warn_prf(average, modifier, f\"{metric.capitalize()} is\", len(result))\n",
      "C:\\Users\\user\\anaconda3\\Lib\\site-packages\\sklearn\\metrics\\_classification.py:1531: UndefinedMetricWarning: Recall is ill-defined and being set to 0.0 in labels with no true samples. Use `zero_division` parameter to control this behavior.\n",
      "  _warn_prf(average, modifier, f\"{metric.capitalize()} is\", len(result))\n"
     ]
    }
   ],
   "source": [
    "import pandas as pd\n",
    "from sklearn.feature_extraction.text import TfidfVectorizer\n",
    "from sklearn.model_selection import train_test_split\n",
    "from sklearn.linear_model import LogisticRegression\n",
    "from sklearn.metrics import classification_report\n",
    "\n",
    "\n",
    "data = {'textID': ['f87dea47db', '96d74cb729', 'eee518ae67', '01082688c6', '33987a8ee5'],\n",
    "        'selected_text': ['Last session of the day http://twitpic.com/67ezh', 'exciting', 'Recession', 'happy bday!', 'I like it!!'],\n",
    "        'sentiment_label': ['positive', 'negative', 'neutral', 'positive', 'positive']}\n",
    "df = pd.DataFrame(data)\n",
    "\n",
    "\n",
    "X_train, X_test, y_train, y_test = train_test_split(df['selected_text'], df['sentiment_label'], test_size=0.3)\n",
    "\n",
    "\n",
    "vectorizer = TfidfVectorizer()\n",
    "X_train_tfidf = vectorizer.fit_transform(X_train)\n",
    "X_test_tfidf = vectorizer.transform(X_test)\n",
    "\n",
    "\n",
    "model = LogisticRegression()\n",
    "model.fit(X_train_tfidf, y_train)\n",
    "\n",
    "\n",
    "y_pred = model.predict(X_test_tfidf)\n",
    "\n",
    "\n",
    "print(\"Prediction Results:\", y_pred)  # Εκτύπωσε τις προβλέψεις\n",
    "print(\"True Labels:\", y_test.values)  # Εκτύπωσε τις πραγματικές ετικέτες\n",
    "print(classification_report(y_test, y_pred))  # Εκτύπωσε την αξιολόγηση του μοντέλου"
   ]
  },
  {
   "cell_type": "code",
   "execution_count": 54,
   "id": "ce008998-ccf3-4388-9058-be831f2d0e13",
   "metadata": {},
   "outputs": [
    {
     "name": "stdout",
     "output_type": "stream",
     "text": [
      "Prediction Results: ['negative' 'negative']\n",
      "True Labels: ['positive' 'positive']\n",
      "              precision    recall  f1-score   support\n",
      "\n",
      "    negative       0.00      0.00      0.00       0.0\n",
      "    positive       0.00      0.00      0.00       2.0\n",
      "\n",
      "    accuracy                           0.00       2.0\n",
      "   macro avg       0.00      0.00      0.00       2.0\n",
      "weighted avg       0.00      0.00      0.00       2.0\n",
      "\n"
     ]
    },
    {
     "name": "stderr",
     "output_type": "stream",
     "text": [
      "C:\\Users\\user\\anaconda3\\Lib\\site-packages\\sklearn\\metrics\\_classification.py:1531: UndefinedMetricWarning: Precision is ill-defined and being set to 0.0 in labels with no predicted samples. Use `zero_division` parameter to control this behavior.\n",
      "  _warn_prf(average, modifier, f\"{metric.capitalize()} is\", len(result))\n",
      "C:\\Users\\user\\anaconda3\\Lib\\site-packages\\sklearn\\metrics\\_classification.py:1531: UndefinedMetricWarning: Recall is ill-defined and being set to 0.0 in labels with no true samples. Use `zero_division` parameter to control this behavior.\n",
      "  _warn_prf(average, modifier, f\"{metric.capitalize()} is\", len(result))\n",
      "C:\\Users\\user\\anaconda3\\Lib\\site-packages\\sklearn\\metrics\\_classification.py:1531: UndefinedMetricWarning: Precision is ill-defined and being set to 0.0 in labels with no predicted samples. Use `zero_division` parameter to control this behavior.\n",
      "  _warn_prf(average, modifier, f\"{metric.capitalize()} is\", len(result))\n",
      "C:\\Users\\user\\anaconda3\\Lib\\site-packages\\sklearn\\metrics\\_classification.py:1531: UndefinedMetricWarning: Recall is ill-defined and being set to 0.0 in labels with no true samples. Use `zero_division` parameter to control this behavior.\n",
      "  _warn_prf(average, modifier, f\"{metric.capitalize()} is\", len(result))\n",
      "C:\\Users\\user\\anaconda3\\Lib\\site-packages\\sklearn\\metrics\\_classification.py:1531: UndefinedMetricWarning: Precision is ill-defined and being set to 0.0 in labels with no predicted samples. Use `zero_division` parameter to control this behavior.\n",
      "  _warn_prf(average, modifier, f\"{metric.capitalize()} is\", len(result))\n",
      "C:\\Users\\user\\anaconda3\\Lib\\site-packages\\sklearn\\metrics\\_classification.py:1531: UndefinedMetricWarning: Recall is ill-defined and being set to 0.0 in labels with no true samples. Use `zero_division` parameter to control this behavior.\n",
      "  _warn_prf(average, modifier, f\"{metric.capitalize()} is\", len(result))\n"
     ]
    }
   ],
   "source": [
    "from sklearn.ensemble import RandomForestClassifier\n",
    "\n",
    "\n",
    "rf_model = RandomForestClassifier()\n",
    "rf_model.fit(X_train_tfidf, y_train)\n",
    "\n",
    "\n",
    "y_pred_rf = rf_model.predict(X_test_tfidf)\n",
    "\n",
    "print(\"Prediction Results:\", y_pred_rf)\n",
    "print(\"True Labels:\", y_test.values)\n",
    "print(classification_report(y_test, y_pred_rf))"
   ]
  },
  {
   "cell_type": "code",
   "execution_count": 67,
   "id": "a161bd46-6934-4170-87c0-013384b266b0",
   "metadata": {},
   "outputs": [
    {
     "name": "stdout",
     "output_type": "stream",
     "text": [
      "sentiment_label\n",
      "positive    3\n",
      "negative    1\n",
      "neutral     1\n",
      "Name: count, dtype: int64\n"
     ]
    }
   ],
   "source": [
    "print(df['sentiment_label'].value_counts())"
   ]
  },
  {
   "cell_type": "code",
   "execution_count": 69,
   "id": "9495faa9-6df6-4a5d-84cb-9e0dc87368c1",
   "metadata": {},
   "outputs": [],
   "source": [
    "df['text_length'] = df['selected_text'].apply(len)"
   ]
  },
  {
   "cell_type": "code",
   "execution_count": null,
   "id": "df714c14-5875-48fa-a170-81bfe923fa22",
   "metadata": {},
   "outputs": [],
   "source": []
  }
 ],
 "metadata": {
  "kernelspec": {
   "display_name": "Python [conda env:base] *",
   "language": "python",
   "name": "conda-base-py"
  },
  "language_info": {
   "codemirror_mode": {
    "name": "ipython",
    "version": 3
   },
   "file_extension": ".py",
   "mimetype": "text/x-python",
   "name": "python",
   "nbconvert_exporter": "python",
   "pygments_lexer": "ipython3",
   "version": "3.12.7"
  }
 },
 "nbformat": 4,
 "nbformat_minor": 5
}
